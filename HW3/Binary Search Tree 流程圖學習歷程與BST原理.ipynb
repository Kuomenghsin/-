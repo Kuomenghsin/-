{
 "cells": [
  {
   "cell_type": "code",
   "execution_count": 14,
   "metadata": {},
   "outputs": [
    {
     "ename": "IndentationError",
     "evalue": "unindent does not match any outer indentation level (<tokenize>, line 16)",
     "output_type": "error",
     "traceback": [
      "\u001b[1;36m  File \u001b[1;32m\"<tokenize>\"\u001b[1;36m, line \u001b[1;32m16\u001b[0m\n\u001b[1;33m    else root.val == val:\u001b[0m\n\u001b[1;37m    ^\u001b[0m\n\u001b[1;31mIndentationError\u001b[0m\u001b[1;31m:\u001b[0m unindent does not match any outer indentation level\n"
     ]
    }
   ],
   "source": [
    "import copy\n",
    "class TreeNode(object):\n",
    "    def __init__(self,x):\n",
    "        self.val=x\n",
    "        self.left=None\n",
    "        self.right=None\n",
    "        \n",
    "class Solution(object):\n",
    "    #新增\n",
    "    def insert(self,root,val):\n",
    "        #root空\n",
    "         if root == None:\n",
    "            N_node = TreeNode(val)\n",
    "            return N_node\n",
    "        #加入數值=root\n",
    "        else root.val == val:\n",
    "            root.left = TreeNode(val)\n",
    "            N_node.left = root.left\n",
    "            root.left = N_node\n",
    "            return N_node\n",
    "            \n",
    "        #加入數值小於root的情況\n",
    "        if root.val > val && root != None && root.val != val:\n",
    "            # 左邊沒有子數，直接加入\n",
    "            if root.left == None:\n",
    "                N_node = TreeNode(val)\n",
    "                root.left =N_node\n",
    "                return N_node\n",
    "            else:\n",
    "                #把左子樹(root.left)當作root\n",
    "                #並遞迴直到找出val應加入的位置\n",
    "                return Solution().insert(root.left,val) \n",
    "        \n",
    "        #加入數值大於root的情況\n",
    "        if root.val < val && root != None && root.val != val:\n",
    "            if root.right == None:\n",
    "                N_node=TreeNode(val)\n",
    "                root.right = N_node\n",
    "                return N_node\n",
    "                \n",
    "            else:\n",
    "                #把右子樹(root.right)當作root\n",
    "                #並遞迴直到找出val應加入的位置\n",
    "                ruturn Solution().insert(root.right,val)\n",
    "                \n",
    "    "
   ]
  },
  {
   "cell_type": "markdown",
   "metadata": {},
   "source": [
    "在寫insert的時候，想著是在空的地方插入數值，接著再思考數值若是比root值還要大的時候，就要往右邊去跑，比root小的時候，就往左邊去跑，接著進入child的地方可能會在一次遇到新的root，則利用做迴圈的方式直到找到可以插入的位置"
   ]
  },
  {
   "cell_type": "code",
   "execution_count": null,
   "metadata": {},
   "outputs": [],
   "source": [
    "#搜尋\n",
    "    def search(self,root,target):\n",
    "        #目標小於root\n",
    "        if target < root.val:\n",
    "            return Solution().search(self,root.left,target)\n",
    "        #目標大於root\n",
    "        elif target > root.val:\n",
    "            return Solution().search(self,root.right,target)\n",
    "        #目標等於root\n",
    "        elif target == root.val:\n",
    "            return root\n",
    "        #找不到\n",
    "        else:\n",
    "            return None\n",
    "        \n",
    "   "
   ]
  },
  {
   "cell_type": "code",
   "execution_count": null,
   "metadata": {},
   "outputs": [],
   "source": [
    "寫search的時候比預料中簡單，可以運用insert的方式去寫程式碼，所以兩個概念都蠻類似的"
   ]
  },
  {
   "cell_type": "code",
   "execution_count": null,
   "metadata": {},
   "outputs": [],
   "source": [
    " #刪除\n",
    "    def delete(self,root,target):\n",
    "        #欲刪除值在左子樹且下方為None\n",
    "        if root.left.val == target && root.left.left==None && root.left.right==None:\n",
    "            root.left==None\n",
    "        #欲刪除值在左子樹且左下方有一個子樹\n",
    "        if root.left.val == target && root.left.left!=None:\n",
    "            #整個移上去\n",
    "            root.left = root.left.left\n",
    "            \n",
    "        #欲刪除值在左子樹且右下方有一個子樹\n",
    "        if root.left.val == target && root.left.right!=None:\n",
    "            #整個移上去\n",
    "            root.left = root.left.right\n",
    "\n",
    "        \n",
    "        #欲刪除值在左子樹且下方有兩個子樹\n",
    "        if root.left.val == target && root.left.left!=None && root.left.right!=None\n",
    "            \n",
    "        #欲刪除值在右子樹且下方為None\n",
    "        if root.right.val == target && root.right.left==None && root.right.right==None:\n",
    "            root.right==None             \n",
    "     \n",
    "  \n",
    "      \n",
    "      \n",
    "                \n"
   ]
  },
  {
   "cell_type": "markdown",
   "metadata": {},
   "source": [
    "第一次在寫delete的時候，本來想說用比較容易的想法去寫，所以分成地下沒有child、底下有一個child、底下有兩個child，之後再看刪掉的值是左邊還是右邊下面有child，可是後來線這個寫法可能會忽略的很多狀況，而且寫法會比較複雜，所以決定打掉重練換成別的寫法"
   ]
  },
  {
   "cell_type": "markdown",
   "metadata": {},
   "source": [
    "參考資料:http://alrightchiu.github.io/SecondRound/binary-search-tree-searchsou-xun-zi-liao-insertxin-zeng-zi-liao.html\n",
    "參考資料:http://alrightchiu.github.io/SecondRound/binary-search-tree-introjian-jie.html\n",
    "參考資料:http://alrightchiu.github.io/SecondRound/binary-search-tree-sortpai-xu-deleteshan-chu-zi-liao.html"
   ]
  },
  {
   "cell_type": "code",
   "execution_count": null,
   "metadata": {},
   "outputs": [],
   "source": [
    "    #刪除\n",
    "    def delete(self,root,target):\n",
    "        #找到目標\n",
    "        if root.val = target: \n",
    "            root.val = None  \n",
    "        #往左找\n",
    "        elif target < root.val:\n",
    "            root.left = Solution().delete(root.left, target) \n",
    "  \n",
    "        #往右找\n",
    "        elif(target > root.val): \n",
    "            root.right = Solution().delete(root.right, target) \n",
    "        #補位\n",
    "        while root.left!=None\n",
    "            if root==None:"
   ]
  },
  {
   "cell_type": "markdown",
   "metadata": {},
   "source": [
    "第二次在寫DELETE的時候，本來想說是在找到目標值的時候善掉之後然後補位，可是後來想到如果binary tree下面有更多孩子的時候，要如何去判斷要由哪個孩子來補位，所以後來想別的寫法。"
   ]
  },
  {
   "cell_type": "code",
   "execution_count": null,
   "metadata": {},
   "outputs": [],
   "source": [
    "class TreeNode(object):\n",
    "    def __init__(self,x):\n",
    "        self.val=x\n",
    "        self.left=None\n",
    "        self.right=None\n",
    "        \n",
    "class Solution(object):\n",
    "    #新增\n",
    "    def insert(self,root,val):\n",
    "        #root空\n",
    "         if root == None:\n",
    "            N_node = TreeNode(val)\n",
    "            return N_node\n",
    "        #加入數值=root\n",
    "        else root.val == val:\n",
    "            root.left = TreeNode(val)\n",
    "            N_node.left = root.left\n",
    "            root.left = N_node\n",
    "            return N_node\n",
    "            \n",
    "        #加入數值小於root的情況\n",
    "        if root.val > val && root != None && root.val != val:\n",
    "            # 左邊沒有子數，直接加入\n",
    "            if root.left == None:\n",
    "                N_node = TreeNode(val)\n",
    "                root.left =N_node\n",
    "                return N_node\n",
    "            else:\n",
    "                #把左子樹(root.left)當作root\n",
    "                #並遞迴直到找出val應加入的位置\n",
    "                return Solution().insert(root.left,val) \n",
    "        \n",
    "        #加入數值大於root的情況\n",
    "        if root.val < val && root != None && root.val != val:\n",
    "            if root.right == None:\n",
    "                N_node=TreeNode(val)\n",
    "                root.right = N_node\n",
    "                return N_node\n",
    "                \n",
    "            else:\n",
    "                #把右子樹(root.right)當作root\n",
    "                #並遞迴直到找出val應加入的位置\n",
    "                ruturn Solution().insert(root.right,val)\n",
    "                \n",
    "    #搜尋\n",
    "    def search(self,root,target):\n",
    "        #目標小於root\n",
    "        if target < root.val:\n",
    "            return Solution().search(self,root.left,target)\n",
    "        #目標大於root\n",
    "        elif target > root.val:\n",
    "            return Solution().search(self,root.right,target)\n",
    "        #目標等於root\n",
    "        elif target == root.val:\n",
    "            return root\n",
    "        #找不到\n",
    "        else:\n",
    "            return None\n",
    "\n",
    "    #左邊最大function\n",
    "    def maxVal(self,root)\n",
    "        Max = root\n",
    "        while(root.right != None):\n",
    "            Max = Max.right\n",
    "            \n",
    "        return Max\n",
    "        \n",
    "    #刪除(正確)\n",
    "    def delete(self,root,target):\n",
    "        #找到目標\n",
    "        if root.val = target: \n",
    "            root.val = None\n",
    "            return root\n",
    "        #欲刪除的目標在右邊\n",
    "        if target > root.val:\n",
    "            root.right = Solution().delete(root.right, target) \n",
    "        #欲刪除的目標在左邊\n",
    "        elif target < root.val:\n",
    "            root.left = Solution().delete(root.left, target)\n",
    "            \n",
    "        else:\n",
    "            #若沒有子樹或只有一個\n",
    "            if root.right != None:\n",
    "                temp = root.left\n",
    "                root = None\n",
    "                return temp\n",
    "            \n",
    "            else root.left != None:\n",
    "                tem = root.right\n",
    "                root = None\n",
    "                return temp\n",
    "            #左右皆有子樹，找左邊最大補\n",
    "            tem = maxVal(root.left)\n",
    "            \n",
    "            #複製他到刪除的node\n",
    "            root.val = temp.val\n",
    "            \n",
    "            #刪掉原本左邊最大的節點\n",
    "            root.left = Solution().delete(root.left, temp.val)\n",
    "        return root\n",
    "            \n",
    "            \n",
    "        \n",
    "    \n",
    "                \n",
    "    #修改\n",
    "    def modify(self,root,target,val):\n",
    "        if target != val:  \n",
    "            #透過前面的insert加入欲輸入的值\n",
    "            Solution().insert(root,val)\n",
    "            #透過刪除刪掉原先的值\n",
    "            return Solution().delete(root,target)\n",
    "        else:\n",
    "            return root\n",
    "            \n",
    "            \n",
    "            \n",
    "    \n",
    "            \n",
    "        \n",
    "                \n"
   ]
  },
  {
   "cell_type": "code",
   "execution_count": null,
   "metadata": {},
   "outputs": [],
   "source": [
    "#from binary_search_tree_學號 import Solution\n",
    "#from binary_search_tree_學號 import TreeNode\n",
    "root=TreeNode(5)\n",
    "Node1=TreeNode(3)\n",
    "Node2=TreeNode(3)\n",
    "Node3=TreeNode(-5)\n",
    "Node4=TreeNode(8)\n",
    "Node5=TreeNode(7)\n",
    "Node6=TreeNode(6)\n",
    "Node7=TreeNode(10)\n",
    "\n",
    "root.left=Node1\n",
    "root.right=Node4\n",
    "Node1.left=Node2\n",
    "Node2.left=Node3\n",
    "Node4.left=Node5\n",
    "Node5.left=Node6\n",
    "Node4.right=Node7\n",
    "\n",
    "\n",
    "#root\n",
    "root1=copy.deepcopy(root)\n",
    "root2=copy.deepcopy(root)\n",
    "root3=copy.deepcopy(root)\n",
    "root4=copy.deepcopy(root)\n",
    "\n",
    "#insert\n",
    "print('insert')\n",
    "print(Solution().insert(root1,4)==root.left.right)\n",
    "print(\"-----------------------------------------------------\")\n",
    "#delete\n",
    "print('delete')\n",
    "root2=Solution().delete(root2,3)\n",
    "print(root2.val==5 and root2.left.val==-5 and root2.left.left==None and root2.left.right==None)\n",
    "print(root2.right.right.val==10 and root2.right.left.val==7 and root2.right.left.left.val==6)\n",
    "print(root2.right.right.right==None and root2.right.right.left==None and root2.right.left.right==None)\n",
    "print(root2.right.left.left.left==None and root2.right.left.left.right==None and root2.right.val==8)\n",
    "print(\"-----------------------------------------------------\")\n",
    "#search\n",
    "print('search')\n",
    "print(Solution().search(root3,10)==root3.right.right)\n",
    "print('-----------------------------------------------------')\n",
    "print('modify')\n",
    "root4=Solution().modify(root4,7,4)\n",
    "print(isBinarySearchTree(root4))\n",
    "print('-----------------------------------------------------')\n",
    "        "
   ]
  },
  {
   "cell_type": "code",
   "execution_count": 1,
   "metadata": {},
   "outputs": [
    {
     "data": {
      "text/html": [
       "<img src=\"https://github.com/Kuomenghsin/my-learning-note/blob/master/S__32415900.jpg\" width=\"1000\" height=\"1000\"/>"
      ],
      "text/plain": [
       "<IPython.core.display.Image object>"
      ]
     },
     "execution_count": 1,
     "metadata": {},
     "output_type": "execute_result"
    }
   ],
   "source": [
    "from IPython.display import Image\n",
    "from IPython.core.display import HTML\n",
    "Image(url=\"https://github.com/Kuomenghsin/my-learning-note/blob/master/S__32415900.jpg\"  ,width = 1000,height = 1000)"
   ]
  },
  {
   "cell_type": "code",
   "execution_count": 2,
   "metadata": {},
   "outputs": [
    {
     "data": {
      "text/html": [
       "<img src=\"https://github.com/Kuomenghsin/my-learning-note/blob/master/S__32415901.jpg\" width=\"1000\" height=\"1000\"/>"
      ],
      "text/plain": [
       "<IPython.core.display.Image object>"
      ]
     },
     "execution_count": 2,
     "metadata": {},
     "output_type": "execute_result"
    }
   ],
   "source": [
    "from IPython.display import Image\n",
    "from IPython.core.display import HTML\n",
    "Image(url=\"https://github.com/Kuomenghsin/my-learning-note/blob/master/S__32415901.jpg\"  ,width = 1000,height = 1000)"
   ]
  }
 ],
 "metadata": {
  "kernelspec": {
   "display_name": "Python 3",
   "language": "python",
   "name": "python3"
  },
  "language_info": {
   "codemirror_mode": {
    "name": "ipython",
    "version": 3
   },
   "file_extension": ".py",
   "mimetype": "text/x-python",
   "name": "python",
   "nbconvert_exporter": "python",
   "pygments_lexer": "ipython3",
   "version": "3.7.1"
  }
 },
 "nbformat": 4,
 "nbformat_minor": 2
}
