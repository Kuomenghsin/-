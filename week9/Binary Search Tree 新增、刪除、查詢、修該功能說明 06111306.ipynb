{
 "cells": [
  {
   "cell_type": "markdown",
   "metadata": {},
   "source": [
    "二元樹搜尋  Binary Search Tree\n",
    "主要的優點就是時間複雜度能優化至O(logN)\n",
    "•\t每個節點最多有兩個子節點\n",
    "•\t子節點有左右之分\n",
    "•\t左子樹的節點小於根節點、右子樹的節點大於根節點\n",
    "•\t節點值不重複\n",
    " \n",
    "Insert \n",
    "1. 每次新增都要從TREE最頂端的root 開始，欲插入的值若是比root值小，則放在下面child 的左邊，若是比root值大，則放在下面child的右邊。\n",
    "2. 若是欲插入的值跟root 值相等，則插入下方child的左邊。\n",
    "\n",
    "Search \n",
    "1. 觀念很像Insert，先設定好我們要搜尋的值，之後開始跟root做比較，若是跟root值相同，則回傳root 的位置\n",
    "2. 欲搜尋的值比root值大，則往右邊的child ，若比root值小，就往左邊，以此類推往下做同樣的動作直到找到欲搜尋的值\n",
    "\n",
    "Delete \n",
    "這個部份我們可以分成三個情況來說明\n",
    "1.欲刪除值底下沒有child : 在這個情況下，就直接刪除那個值，然後會回傳none \n",
    "2.欲刪除值底下有一個child: 在被刪除值底下的child變成被刪除值root下面的child \n",
    "3.欲刪除的值底下有兩個child: 被刪除值底下兩個child中較大的值取代被刪除的值成為root，使得底下變成只有一個child \n",
    "\n",
    "Modify \n",
    "可以分為先新增厚刪除，以及先刪除後新增兩種方式去做\n",
    "\n"
   ]
  },
  {
   "cell_type": "code",
   "execution_count": null,
   "metadata": {},
   "outputs": [],
   "source": []
  }
 ],
 "metadata": {
  "kernelspec": {
   "display_name": "Python 3",
   "language": "python",
   "name": "python3"
  },
  "language_info": {
   "codemirror_mode": {
    "name": "ipython",
    "version": 3
   },
   "file_extension": ".py",
   "mimetype": "text/x-python",
   "name": "python",
   "nbconvert_exporter": "python",
   "pygments_lexer": "ipython3",
   "version": "3.7.1"
  }
 },
 "nbformat": 4,
 "nbformat_minor": 2
}
