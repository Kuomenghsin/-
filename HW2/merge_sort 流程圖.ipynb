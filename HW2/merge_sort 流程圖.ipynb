{
 "cells": [
  {
   "cell_type": "code",
   "execution_count": 10,
   "metadata": {
    "scrolled": true
   },
   "outputs": [
    {
     "ename": "NameError",
     "evalue": "name 'num1' is not defined",
     "output_type": "error",
     "traceback": [
      "\u001b[1;31m---------------------------------------------------------------------------\u001b[0m",
      "\u001b[1;31mNameError\u001b[0m                                 Traceback (most recent call last)",
      "\u001b[1;32m<ipython-input-10-9395c2a6bc8b>\u001b[0m in \u001b[0;36m<module>\u001b[1;34m\u001b[0m\n\u001b[0;32m     47\u001b[0m \u001b[1;33m\u001b[0m\u001b[0m\n\u001b[0;32m     48\u001b[0m \u001b[1;31m#Output\u001b[0m\u001b[1;33m\u001b[0m\u001b[1;33m\u001b[0m\u001b[1;33m\u001b[0m\u001b[0m\n\u001b[1;32m---> 49\u001b[1;33m \u001b[0moutput\u001b[0m \u001b[1;33m=\u001b[0m \u001b[0mSolution\u001b[0m\u001b[1;33m(\u001b[0m\u001b[1;33m)\u001b[0m\u001b[1;33m.\u001b[0m\u001b[0mmerge_sort\u001b[0m\u001b[1;33m(\u001b[0m\u001b[1;33m[\u001b[0m\u001b[1;36m2\u001b[0m\u001b[1;33m,\u001b[0m\u001b[1;36m5\u001b[0m\u001b[1;33m,\u001b[0m\u001b[1;36m6\u001b[0m\u001b[1;33m,\u001b[0m\u001b[1;36m8\u001b[0m\u001b[1;33m,\u001b[0m\u001b[1;36m7\u001b[0m\u001b[1;33m,\u001b[0m\u001b[1;36m9\u001b[0m\u001b[1;33m]\u001b[0m\u001b[1;33m)\u001b[0m\u001b[1;33m\u001b[0m\u001b[1;33m\u001b[0m\u001b[0m\n\u001b[0m\u001b[0;32m     50\u001b[0m \u001b[0moutput\u001b[0m\u001b[1;33m\u001b[0m\u001b[1;33m\u001b[0m\u001b[0m\n",
      "\u001b[1;32m<ipython-input-10-9395c2a6bc8b>\u001b[0m in \u001b[0;36mmerge_sort\u001b[1;34m(self, nums)\u001b[0m\n\u001b[0;32m     10\u001b[0m         \u001b[0mself\u001b[0m\u001b[1;33m.\u001b[0m\u001b[0mdivide_sort\u001b[0m\u001b[1;33m(\u001b[0m\u001b[0mnum1\u001b[0m\u001b[1;33m,\u001b[0m \u001b[0mlen\u001b[0m\u001b[1;33m(\u001b[0m\u001b[0mnum1\u001b[0m\u001b[1;33m)\u001b[0m\u001b[1;33m-\u001b[0m\u001b[1;36m1\u001b[0m\u001b[1;33m)\u001b[0m\u001b[1;33m\u001b[0m\u001b[1;33m\u001b[0m\u001b[0m\n\u001b[0;32m     11\u001b[0m         \u001b[0mself\u001b[0m\u001b[1;33m.\u001b[0m\u001b[0mdivide_sort\u001b[0m\u001b[1;33m(\u001b[0m\u001b[0mnum2\u001b[0m\u001b[1;33m,\u001b[0m \u001b[0mlen\u001b[0m\u001b[1;33m(\u001b[0m\u001b[0mnum2\u001b[0m\u001b[1;33m)\u001b[0m\u001b[1;33m-\u001b[0m\u001b[1;36m1\u001b[0m\u001b[1;33m)\u001b[0m\u001b[1;33m\u001b[0m\u001b[1;33m\u001b[0m\u001b[0m\n\u001b[1;32m---> 12\u001b[1;33m         \u001b[0mself\u001b[0m\u001b[1;33m.\u001b[0m\u001b[0mcombine\u001b[0m\u001b[1;33m(\u001b[0m\u001b[0mlen\u001b[0m\u001b[1;33m(\u001b[0m\u001b[0mnum1\u001b[0m\u001b[1;33m)\u001b[0m\u001b[1;33m,\u001b[0m\u001b[0mlen\u001b[0m\u001b[1;33m(\u001b[0m\u001b[0mnum2\u001b[0m\u001b[1;33m)\u001b[0m\u001b[1;33m)\u001b[0m\u001b[1;33m\u001b[0m\u001b[1;33m\u001b[0m\u001b[0m\n\u001b[0m\u001b[0;32m     13\u001b[0m \u001b[1;33m\u001b[0m\u001b[0m\n\u001b[0;32m     14\u001b[0m         \u001b[1;32mreturn\u001b[0m \u001b[0mnums\u001b[0m\u001b[1;33m\u001b[0m\u001b[1;33m\u001b[0m\u001b[0m\n",
      "\u001b[1;32m<ipython-input-10-9395c2a6bc8b>\u001b[0m in \u001b[0;36mcombine\u001b[1;34m(self, size1, size2)\u001b[0m\n\u001b[0;32m     32\u001b[0m         \u001b[0marg1\u001b[0m\u001b[1;33m=\u001b[0m\u001b[1;36m0\u001b[0m\u001b[1;33m\u001b[0m\u001b[1;33m\u001b[0m\u001b[0m\n\u001b[0;32m     33\u001b[0m         \u001b[0marg2\u001b[0m\u001b[1;33m=\u001b[0m\u001b[1;36m0\u001b[0m\u001b[1;33m\u001b[0m\u001b[1;33m\u001b[0m\u001b[0m\n\u001b[1;32m---> 34\u001b[1;33m         \u001b[0mnum1\u001b[0m\u001b[1;33m.\u001b[0m\u001b[0mappend\u001b[0m\u001b[1;33m(\u001b[0m\u001b[1;36m999\u001b[0m\u001b[1;33m)\u001b[0m\u001b[1;33m\u001b[0m\u001b[1;33m\u001b[0m\u001b[0m\n\u001b[0m\u001b[0;32m     35\u001b[0m         \u001b[0mnum2\u001b[0m\u001b[1;33m.\u001b[0m\u001b[0mappend\u001b[0m\u001b[1;33m(\u001b[0m\u001b[1;36m999\u001b[0m\u001b[1;33m)\u001b[0m\u001b[1;33m\u001b[0m\u001b[1;33m\u001b[0m\u001b[0m\n\u001b[0;32m     36\u001b[0m \u001b[1;33m\u001b[0m\u001b[0m\n",
      "\u001b[1;31mNameError\u001b[0m: name 'num1' is not defined"
     ]
    }
   ],
   "source": [
    "#合併排序法\n",
    "合併排序主要區分為拆分與合併\n",
    "拆分\n",
    "1.\t把大陣列切一半成為兩個小陣列\n",
    "2.\t把切好的兩個小陣列再各自切一半\n",
    "3.\t重複步驟二直到每個小陣列都只剩一個元素\n",
    "合併\n",
    "1.\t排序兩個只剩一個元素的小陣列並合併\n",
    "2.\t把兩邊排序好的小陣列合併並排序成一個陣列\n",
    "3.\t重複步驟二直到所有小陣列都合併成一個大陣列"
   ]
  },
  {
   "cell_type": "code",
   "execution_count": null,
   "metadata": {},
   "outputs": [],
   "source": [
    "class Solution(object):\n",
    "\n",
    "    #MergeSort\n",
    "    def merge_sort(self, nums):\n",
    "        self.nums = nums\n",
    "        num1=nums[:len(nums)//2]\n",
    "        num2=nums[len(nums)//2:]\n",
    "        num3=[]\n",
    "        \n",
    "        self.divide_sort(num1, len(num1)-1)\n",
    "        self.divide_sort(num2, len(num2)-1)\n",
    "        self.combine(len(num1),len(num2))\n",
    "        \n",
    "        return nums\n",
    "    \n",
    "    #Divide\n",
    "    def divide_sort(self,num,size):\n",
    "        for i in range(size-1):\n",
    "            for base in range(size-1-i):\n",
    "                min=base\n",
    "                for compare in range(size):\n",
    "                    compare=base+1\n",
    "                    if num[compare]<num[min]:\n",
    "                        min=compare\n",
    "                    \n",
    "                    temp=num[min]\n",
    "                    num[min]=num[base]\n",
    "                    num[base]=temp\n",
    "            \n",
    "    #Combine\n",
    "    def combine(self,size1,size2):\n",
    "        arg1=0\n",
    "        arg2=0              \n",
    "        num1.append(999)\n",
    "        num2.append(999)\n",
    "\n",
    "        for arg3 in range(size1+size2):\n",
    "            if num1[arg1]<num2[arg2]:\n",
    "                num3.append(num1[arg1])\n",
    "                arg1+=1\n",
    "            else:\n",
    "                num3.append(num2[arg2])\n",
    "                arg2+=1\n",
    "                \n",
    "            \n",
    "\n",
    "                \n",
    "#Output\n",
    "output = Solution().merge_sort([2,5,6,8,7,9])\n",
    "output"
   ]
  },
  {
   "cell_type": "code",
   "execution_count": 11,
   "metadata": {},
   "outputs": [
    {
     "data": {
      "text/plain": [
       "[2, 3, 4]"
      ]
     },
     "execution_count": 11,
     "metadata": {},
     "output_type": "execute_result"
    }
   ],
   "source": [
    "class Sol(object):\n",
    "    def try1(self, ar):\n",
    "        self.ar=ar\n",
    "        ar1 = ar[:len(ar)//2]\n",
    "        ar2 = ar[len(ar)//2:]\n",
    "        \n",
    "        self.try2(ar1, len(ar1))\n",
    "        \n",
    "        return ar1\n",
    "    \n",
    "    def try2(self, ar, siz):\n",
    "        k=2\n",
    "        for k in range(siz):\n",
    "            ar[k] = ar[k]+1\n",
    "        \n",
    "\n",
    "output=Sol().try1([1,2,3,4,5,6])\n",
    "output"
   ]
  },
  {
   "cell_type": "code",
   "execution_count": 12,
   "metadata": {},
   "outputs": [
    {
     "name": "stdout",
     "output_type": "stream",
     "text": [
      "[2, 4, 5, 8, 9]\n"
     ]
    }
   ],
   "source": [
    "arr=[2,9,8,4,5]\n",
    "siz=len(arr)\n",
    "for i in range(siz-1):        \n",
    "    for i in range(siz-1-i):\n",
    "        m=i\n",
    "        for j in range(siz):\n",
    "            j=i+1\n",
    "        \n",
    "            if arr[j]<arr[m]:\n",
    "                m=j\n",
    "                    \n",
    "            t=arr[m]\n",
    "            arr[m]=arr[i]\n",
    "            arr[i]=t\n",
    "   \n",
    "                        \n",
    "print(arr)                "
   ]
  },
  {
   "cell_type": "code",
   "execution_count": 13,
   "metadata": {
    "scrolled": true
   },
   "outputs": [
    {
     "name": "stdout",
     "output_type": "stream",
     "text": [
      "[1, 2, 3, 4, 5, 6, 7, 8]\n"
     ]
    }
   ],
   "source": [
    "arr1=[2,4,6,8]\n",
    "arr2=[1,3,5,7] \n",
    "arr3=[]\n",
    "\n",
    "siz1=len(arr1)\n",
    "siz2=len(arr2)\n",
    "\n",
    "index1=0\n",
    "index2=0        \n",
    "arr1.append(999)\n",
    "arr2.append(999)\n",
    "\n",
    "for index3 in range(siz1+siz2):\n",
    "    if arr1[index1]<arr2[index2]:\n",
    "        arr3.append(arr1[index1])\n",
    "        index1+=1\n",
    "    else:\n",
    "        arr3.append(arr2[index2])\n",
    "        index2+=1\n",
    "        \n",
    "print(arr3)"
   ]
  },
  {
   "cell_type": "code",
   "execution_count": null,
   "metadata": {},
   "outputs": [],
   "source": [
    "#"
   ]
  },
  {
   "cell_type": "code",
   "execution_count": 1,
   "metadata": {},
   "outputs": [
    {
     "ename": "ModuleNotFoundError",
     "evalue": "No module named '擷取'",
     "output_type": "error",
     "traceback": [
      "\u001b[1;31m---------------------------------------------------------------------------\u001b[0m",
      "\u001b[1;31mModuleNotFoundError\u001b[0m                       Traceback (most recent call last)",
      "\u001b[1;32m<ipython-input-1-6051fcb33c0c>\u001b[0m in \u001b[0;36m<module>\u001b[1;34m\u001b[0m\n\u001b[1;32m----> 1\u001b[1;33m \u001b[1;32mimport\u001b[0m \u001b[0m擷取\u001b[0m\u001b[1;33m.\u001b[0m\u001b[0mpng\u001b[0m\u001b[1;33m\u001b[0m\u001b[1;33m\u001b[0m\u001b[0m\n\u001b[0m",
      "\u001b[1;31mModuleNotFoundError\u001b[0m: No module named '擷取'"
     ]
    }
   ],
   "source": [
    "#參考資料https://medium.com/appworks-school/%E5%88%9D%E5%AD%B8%E8%80%85%E5%AD%B8%E6%BC%94%E7%AE%97%E6%B3%95-%E6%8E%92%E5%BA%8F%E6%B3%95%E9%80%B2%E9%9A%8E-%E5%90%88%E4%BD%B5%E6%8E%92%E5%BA%8F%E6%B3%95-6252651c6f7e"
   ]
  },
  {
   "cell_type": "code",
   "execution_count": null,
   "metadata": {},
   "outputs": [],
   "source": [
     "### --- 系統流程圖 ---\n",
    "\n",
    "![image](https://github.com/Kuomenghsin/my-learning-note/blob/master/iamg.PNG)"
   ]
  }
 ],
 "metadata": {
  "kernelspec": {
   "display_name": "Python 3",
   "language": "python",
   "name": "python3"
  },
  "language_info": {
   "codemirror_mode": {
    "name": "ipython",
    "version": 3
   },
   "file_extension": ".py",
   "mimetype": "text/x-python",
   "name": "python",
   "nbconvert_exporter": "python",
   "pygments_lexer": "ipython3",
   "version": "3.7.1"
  }
 },
 "nbformat": 4,
 "nbformat_minor": 2
}
